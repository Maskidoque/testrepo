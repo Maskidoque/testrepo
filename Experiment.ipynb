{
  "nbformat": 4,
  "nbformat_minor": 0,
  "metadata": {
    "colab": {
      "provenance": [],
      "authorship_tag": "ABX9TyNe0y5P8SE3OZJbzxPaQ500",
      "include_colab_link": true
    },
    "kernelspec": {
      "name": "python3",
      "display_name": "Python 3"
    },
    "language_info": {
      "name": "python"
    },
    "accelerator": "GPU",
    "gpuClass": "standard"
  },
  "cells": [
    {
      "cell_type": "markdown",
      "metadata": {
        "id": "view-in-github",
        "colab_type": "text"
      },
      "source": [
        "<a href=\"https://colab.research.google.com/github/Maskidoque/testrepo/blob/main/Experiment.ipynb\" target=\"_parent\"><img src=\"https://colab.research.google.com/assets/colab-badge.svg\" alt=\"Open In Colab\"/></a>"
      ]
    },
    {
      "cell_type": "code",
      "execution_count": null,
      "metadata": {
        "colab": {
          "base_uri": "https://localhost:8080/"
        },
        "id": "UJRJboP8OOKs",
        "outputId": "de9a3119-ad83-44c2-ccfd-907d5e8c3a50"
      },
      "outputs": [
        {
          "output_type": "stream",
          "name": "stdout",
          "text": [
            "Cloning into 'augmented-neural-odes'...\n",
            "remote: Enumerating objects: 62, done.\u001b[K\n",
            "remote: Counting objects: 100% (24/24), done.\u001b[K\n",
            "remote: Compressing objects: 100% (12/12), done.\u001b[K\n",
            "remote: Total 62 (delta 12), reused 12 (delta 12), pack-reused 38\u001b[K\n",
            "Unpacking objects: 100% (62/62), done.\n",
            "/content/augmented-neural-odes\n",
            "Looking in indexes: https://pypi.org/simple, https://us-python.pkg.dev/colab-wheels/public/simple/\n",
            "Collecting torchdiffeq\n",
            "  Downloading torchdiffeq-0.2.3-py3-none-any.whl (31 kB)\n",
            "Requirement already satisfied: scipy>=1.4.0 in /usr/local/lib/python3.8/dist-packages (from torchdiffeq) (1.7.3)\n",
            "Requirement already satisfied: torch>=1.3.0 in /usr/local/lib/python3.8/dist-packages (from torchdiffeq) (1.13.0+cu116)\n",
            "Requirement already satisfied: numpy<1.23.0,>=1.16.5 in /usr/local/lib/python3.8/dist-packages (from scipy>=1.4.0->torchdiffeq) (1.21.6)\n",
            "Requirement already satisfied: typing-extensions in /usr/local/lib/python3.8/dist-packages (from torch>=1.3.0->torchdiffeq) (4.4.0)\n",
            "Installing collected packages: torchdiffeq\n",
            "Successfully installed torchdiffeq-0.2.3\n"
          ]
        }
      ],
      "source": [
        "!git clone https://github.com/EmilienDupont/augmented-neural-odes.git\n",
        "%cd augmented-neural-odes\n",
        "!pip install torchdiffeq"
      ]
    },
    {
      "cell_type": "code",
      "source": [
        "from experiments.dataloaders import ConcentricSphere\n",
        "from torch.utils.data import DataLoader\n",
        "from viz.plots import single_feature_plt"
      ],
      "metadata": {
        "id": "dnTcCqJ_PNqR"
      },
      "execution_count": null,
      "outputs": []
    },
    {
      "cell_type": "code",
      "source": [
        "# Main_experiment.py\n",
        "\n",
        "import sys\n",
        "import torch\n",
        "from experiments.experiments_img import run_and_save_experiments_img\n",
        "\n",
        "device = torch.device('cuda' if torch.cuda.is_available() else 'cpu')\n",
        "\n",
        "# Get config file from command line arguments\n",
        "if len(sys.argv) != 2:\n",
        "    raise(RuntimeError(\"Wrong arguments, use python main_experiment.py <path_to_config>\"))\n",
        "config_path = sys.argv[1]\n",
        "\n",
        "run_and_save_experiments_img(device, config_path)"
      ],
      "metadata": {
        "id": "NopnPXttD5t6"
      },
      "execution_count": null,
      "outputs": []
    }
  ]
}